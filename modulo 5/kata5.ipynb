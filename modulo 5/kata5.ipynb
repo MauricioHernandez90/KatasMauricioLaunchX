{
 "cells": [
  {
   "cell_type": "markdown",
   "metadata": {},
   "source": [
    "# Ejercicio1 - Utilizar operadores aritméticos"
   ]
  },
  {
   "cell_type": "code",
   "execution_count": 5,
   "metadata": {},
   "outputs": [
    {
     "name": "stdout",
     "output_type": "stream",
     "text": [
      "The distance between two planets is: 628949330 km\n",
      "The distance between two planets is: 1012195830.53952 mi\n"
     ]
    }
   ],
   "source": [
    "# Crear variables para almacenar las dos distancias\n",
    "# ¡Asegúrate de quitar las comas!\n",
    "\n",
    "earth = 149597870\n",
    "jupyter = 778547200\n",
    "\n",
    "# Calcular la distancia entre planetas\n",
    "distance = earth - jupyter\n",
    "\n",
    "print(f\"The distance between two planets is: {abs(distance)} km\")\n",
    "print(f\"The distance between two planets is: {abs(distance*1.609344)} mi\")\n",
    "\n"
   ]
  },
  {
   "cell_type": "markdown",
   "metadata": {},
   "source": [
    "# Ejercicio 2: convierte cadenas en números y usa valores absolutos"
   ]
  },
  {
   "cell_type": "code",
   "execution_count": 6,
   "metadata": {},
   "outputs": [
    {
     "name": "stdout",
     "output_type": "stream",
     "text": [
      "\n",
      "El siguiente programa calcula la distancia entre dos planetas tomando como referencia la distancia del sol\n",
      "\n",
      "\n",
      "La distancia del primer planeta es\t 50000000.0 km\n",
      "La distancia del segundo planeta es\t 5435785.0 km\n",
      "\n",
      "La distancia entre el planeta 1 y el planeta 2 es: 44564215.0\n"
     ]
    }
   ],
   "source": [
    "# Almacenar las entradas del usuario\n",
    "#Pista: variable = input(\"¿Cuál es tu nombre?\")\n",
    "print(\"\\nEl siguiente programa calcula la distancia entre dos planetas tomando como referencia la distancia del sol\")\n",
    "\n",
    "planet_one = float(input(\"\\n\\nPor favor ingresa la distancia del primer planeta:\\t\"))\n",
    "planet_two = float(input(\"Por favor ingresa la distancia del segundo planeta:\\t\"))\n",
    "\n",
    "print(f\"\\n\\nLa distancia del primer planeta es\\t {planet_one} km\")\n",
    "print(f\"La distancia del segundo planeta es\\t {planet_two} km\")\n",
    "\n",
    "distance = planet_one - planet_two\n",
    "\n",
    "print(f\"\\nLa distancia entre el planeta 1 y el planeta 2 es: {abs(distance)}\")\n",
    "\n"
   ]
  }
 ],
 "metadata": {
  "interpreter": {
   "hash": "31f2aee4e71d21fbe5cf8b01ff0e069b9275f58929596ceb00d14d90e3e16cd6"
  },
  "kernelspec": {
   "display_name": "Python 3.9.7 64-bit",
   "language": "python",
   "name": "python3"
  },
  "language_info": {
   "codemirror_mode": {
    "name": "ipython",
    "version": 3
   },
   "file_extension": ".py",
   "mimetype": "text/x-python",
   "name": "python",
   "nbconvert_exporter": "python",
   "pygments_lexer": "ipython3",
   "version": "3.9.7"
  },
  "orig_nbformat": 4
 },
 "nbformat": 4,
 "nbformat_minor": 2
}
