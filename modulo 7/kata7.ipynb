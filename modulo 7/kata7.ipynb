{
 "cells": [
  {
   "cell_type": "code",
   "execution_count": null,
   "metadata": {},
   "outputs": [],
   "source": []
  },
  {
   "cell_type": "markdown",
   "metadata": {},
   "source": [
    "# Ejercicio 1: Creación de un bucle \"while\"\n"
   ]
  },
  {
   "cell_type": "markdown",
   "metadata": {},
   "source": [
    "# Ejercicio 2: Creación de un ciclo \"for\""
   ]
  },
  {
   "cell_type": "code",
   "execution_count": 23,
   "metadata": {},
   "outputs": [
    {
     "name": "stdout",
     "output_type": "stream",
     "text": [
      "Please enter the list of planets and at the end write done.\n",
      "\n",
      "The planets you added are: \n",
      "\tMercury\n",
      "\tVenus\n",
      "\tEarth\n",
      "\tMart\n",
      "\tJupiter\n",
      "\tSaturn\n",
      "\tUrane\n",
      "\tNeptune\n",
      "\tPluton\n"
     ]
    }
   ],
   "source": [
    "# Declara dos variables\n",
    "\n",
    "planets = []\n",
    "new_planets = \"\"\n",
    "\n",
    "print(\"Please enter the list of planets and at the end write done.\\n\")\n",
    "\n",
    "# Escribe el ciclo while solicitado\n",
    "while new_planets != \"done\":\n",
    "    if new_planets:\n",
    "        planets.append(new_planets)\n",
    "    new_planets = input(\"Please enter a new planet: \")\n",
    "\n",
    "\n",
    "# Escribe tu ciclo for para iterar en una lista de planetas\n",
    "print(\"The planets you added are: \")\n",
    "for i in planets:\n",
    "    print(f\"\\t{i}\")\n"
   ]
  }
 ],
 "metadata": {
  "interpreter": {
   "hash": "916dbcbb3f70747c44a77c7bcd40155683ae19c65e1c03b4aa3499c5328201f1"
  },
  "kernelspec": {
   "display_name": "Python 3.9.7 64-bit",
   "language": "python",
   "name": "python3"
  },
  "language_info": {
   "codemirror_mode": {
    "name": "ipython",
    "version": 3
   },
   "file_extension": ".py",
   "mimetype": "text/x-python",
   "name": "python",
   "nbconvert_exporter": "python",
   "pygments_lexer": "ipython3",
   "version": "3.9.7"
  },
  "orig_nbformat": 4
 },
 "nbformat": 4,
 "nbformat_minor": 2
}
