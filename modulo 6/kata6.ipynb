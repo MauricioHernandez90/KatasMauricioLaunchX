{
 "cells": [
  {
   "cell_type": "code",
   "execution_count": null,
   "metadata": {},
   "outputs": [],
   "source": []
  },
  {
   "cell_type": "markdown",
   "metadata": {},
   "source": [
    "# Ejercicio1: Crear y usar listas de Python"
   ]
  },
  {
   "cell_type": "code",
   "execution_count": 21,
   "metadata": {},
   "outputs": [
    {
     "name": "stdout",
     "output_type": "stream",
     "text": [
      "Plutón\n"
     ]
    }
   ],
   "source": [
    "# Creamos la lista planets y la mostramos\n",
    "planets = [\"Mercurio\", \"Venus\", \"Tierra\", \"Marte\",\"Jupiter\", \"Saturno\", \"Urano\", \"Neptuno\"]\n",
    "\n",
    "\n",
    "# Agregamos a plutón y mostramos el último elemento\n",
    "planets.append(\"Plutón\")\n",
    "print(planets[-1])"
   ]
  },
  {
   "cell_type": "markdown",
   "metadata": {},
   "source": [
    "# Ejercicio 2: Trabajando con datos de una lista"
   ]
  },
  {
   "cell_type": "code",
   "execution_count": 22,
   "metadata": {},
   "outputs": [
    {
     "name": "stdout",
     "output_type": "stream",
     "text": [
      "You have entered planet Jupiter into the system.\n",
      "The planet Jupiter is the planet number 5 in the solar system.\n",
      "The planet Jupiter is one of the furthest from sun\n"
     ]
    }
   ],
   "source": [
    "# List of planets\n",
    "planets = [\"Mercury\", \"Venus\", \"Earth\", \"Mart\", \"Jupiter\", \"Saturn\", \"Uranus\",\"Neptune\"]\n",
    "\n",
    "# We request the name of planet\n",
    "planet_input = input(\"Please write the name of the planet here: \")\n",
    "\n",
    "# We look for the planet in the list\n",
    "planetSearch = planets.index(planet_input)\n",
    "\n",
    "print(f\"You have entered planet {planets[planetSearch]} into the system.\")\n",
    "print(f\"The planet {planets[planetSearch]} is the planet number {planetSearch + 1} in the solar system.\")\n",
    "\n",
    "# Show the planets more close than sun.\n",
    "if planetSearch <= 3:\n",
    "    print(f\"The planet {planets[planetSearch]} is one of the closest to Sun\")\n",
    "\n",
    "# Show the planets more farthest from the sun\n",
    "else:\n",
    "    print(f\"The planet {planets[planetSearch]} is one of the furthest from sun\")\n",
    "\n",
    "\n",
    "\n"
   ]
  }
 ],
 "metadata": {
  "interpreter": {
   "hash": "916dbcbb3f70747c44a77c7bcd40155683ae19c65e1c03b4aa3499c5328201f1"
  },
  "kernelspec": {
   "display_name": "Python 3.9.7 64-bit",
   "language": "python",
   "name": "python3"
  },
  "language_info": {
   "codemirror_mode": {
    "name": "ipython",
    "version": 3
   },
   "file_extension": ".py",
   "mimetype": "text/x-python",
   "name": "python",
   "nbconvert_exporter": "python",
   "pygments_lexer": "ipython3",
   "version": "3.9.7"
  },
  "orig_nbformat": 4
 },
 "nbformat": 4,
 "nbformat_minor": 2
}
