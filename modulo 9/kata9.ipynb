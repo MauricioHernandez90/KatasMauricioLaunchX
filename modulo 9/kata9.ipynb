{
 "cells": [
  {
   "cell_type": "markdown",
   "metadata": {},
   "source": [
    "# Ejercicio: Uso de funciones en Python"
   ]
  },
  {
   "cell_type": "markdown",
   "metadata": {},
   "source": [
    "Ejercicio 1: Trabajar con argumentos en funciones\n",
    "Los argumentos requeridos en las funciones se utilizan cuando las funciones necesitan que esos argumentos funcionen correctamente. En este ejercicio, construirás un informe de combustible que requiere información de varias ubicaciones de combustible en todo el cohete."
   ]
  },
  {
   "cell_type": "code",
   "execution_count": 36,
   "metadata": {},
   "outputs": [
    {
     "name": "stdout",
     "output_type": "stream",
     "text": [
      "START\n",
      "The generated report is the following:\n",
      "tank_1: 122\n",
      "tank_2: 446\n",
      "tank_3: 33454\n",
      "The average fuel is: 11340.666666666666\n",
      "\n",
      "END\n",
      "tank_1: 87\n",
      "tank_2: 76\n",
      "tank_3: 656\n",
      "The average fuel is: 273.0\n"
     ]
    }
   ],
   "source": [
    "# Función para leer 3 tanques de combustible y muestre el promedio\n",
    "\n",
    "print(\"START\")\n",
    "number_1= int(input(\"Please enter the capacity tank number one here: \"))\n",
    "number_2= int(input(\"Please enter the capacity tank number two here: \"))\n",
    "number_3= int(input(\"Please enter the capacity tank number three here: \"))\n",
    "\n",
    "print(\"The generated report is the following:\")\n",
    "\n",
    "\n",
    "\n",
    "\n",
    "def oil_report(**fuel_tank):\n",
    "    for title, name in fuel_tank.items():\n",
    "        print(f\"{title}: {name}\")\n",
    "\n",
    "        # Función promedio \n",
    "        average_report = 0\n",
    "        for i in fuel_tank.values():\n",
    "            average_report = (i + average_report)\n",
    "    print(f\"The average fuel is: {(average_report)/3}\")\n",
    "        \n",
    "\n",
    "# Llamamos a la función que genera el reporte print(funcion(tanque1, tanque2, tanque3))\n",
    "oil_report(tank_1=number_1, tank_2=number_2, tank_3=number_3)\n",
    "\n",
    "\n",
    "\n",
    "# Actualiza la función\n",
    "print(\"\\nEND\")\n",
    "number_1= int(input(\"Please enter the capacity tank number one here: \"))\n",
    "number_2= int(input(\"Please enter the capacity tank number two here: \"))\n",
    "number_3= int(input(\"Please enter the capacity tank number three here: \"))\n",
    "\n",
    "oil_report(tank_1=number_1, tank_2=number_2, tank_3=number_3)"
   ]
  },
  {
   "cell_type": "markdown",
   "metadata": {},
   "source": [
    "# Ejercicio 2: Trabajo con argumentos de palabra clave"
   ]
  },
  {
   "cell_type": "code",
   "execution_count": 42,
   "metadata": {},
   "outputs": [
    {
     "name": "stdout",
     "output_type": "stream",
     "text": [
      "MISSION 1\n",
      "\n",
      "\n",
      "    The mission is: 34\n",
      "    The prelaunch time is: Moon\n",
      "    The flight time is: 32\n",
      "    The external tank is: 93821\n",
      "    The internal tank is: 28213\n",
      "    \n",
      "MISSION 2\n",
      "\n",
      "\n",
      "    The mission is: 823\n",
      "    The prelaunch time is: Mart\n",
      "    The flight time is: 223\n",
      "    The external tank is: 87181\n",
      "    The internal tank is: 82817\n",
      "    \n"
     ]
    }
   ],
   "source": [
    "# Función con un informe preciso de la misión. \n",
    "# Considera hora de prelanzamiento, tiempo de vuelo, destino, tanque externo y tanque interno\n",
    "\n",
    "print(\"MISSION 1\\n\")\n",
    "destination = input(\"Enter destination here: \")\n",
    "flight_time = int(input(\"Enter fligh time: \"))\n",
    "pre_launch = int(input(\"Enter pre-launch time: \"))\n",
    "external_tank = int(input(\"Enter external tank: \"))\n",
    "internal_tank = int(input(\"Enter internal tank: \"))\n",
    "\n",
    "\n",
    "\n",
    "def mission_report(pre_launch, destination, flight_time, external_tank, internal_tank):\n",
    "    return f\"\"\"\n",
    "    The mission is: {destination}\n",
    "    The prelaunch time is: {pre_launch}\n",
    "    The flight time is: {flight_time}\n",
    "    The external tank is: {external_tank}\n",
    "    The internal tank is: {internal_tank}\n",
    "    \"\"\"\n",
    "print(mission_report(destination, flight_time, pre_launch, external_tank, internal_tank))\n",
    "\n",
    "\n",
    "# Escribe tu nueva función\n",
    "print(\"MISSION 2\\n\")\n",
    "destination = input(\"Enter destination here: \")\n",
    "flight_time = int(input(\"Enter fligh time: \"))\n",
    "pre_launch = int(input(\"Enter pre-launch time: \"))\n",
    "external_tank = int(input(\"Enter external tank: \"))\n",
    "internal_tank = int(input(\"Enter internal tank: \"))\n",
    "\n",
    "print(mission_report(destination, flight_time, pre_launch, external_tank, internal_tank))"
   ]
  }
 ],
 "metadata": {
  "interpreter": {
   "hash": "31f2aee4e71d21fbe5cf8b01ff0e069b9275f58929596ceb00d14d90e3e16cd6"
  },
  "kernelspec": {
   "display_name": "Python 3.9.7 64-bit",
   "language": "python",
   "name": "python3"
  },
  "language_info": {
   "codemirror_mode": {
    "name": "ipython",
    "version": 3
   },
   "file_extension": ".py",
   "mimetype": "text/x-python",
   "name": "python",
   "nbconvert_exporter": "python",
   "pygments_lexer": "ipython3",
   "version": "3.9.7"
  },
  "orig_nbformat": 4
 },
 "nbformat": 4,
 "nbformat_minor": 2
}
